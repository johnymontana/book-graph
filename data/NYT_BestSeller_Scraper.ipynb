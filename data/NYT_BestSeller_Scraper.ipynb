{
 "cells": [
  {
   "cell_type": "code",
   "execution_count": null,
   "metadata": {},
   "outputs": [],
   "source": [
    "import requests\n",
    "import csv"
   ]
  },
  {
   "cell_type": "code",
   "execution_count": null,
   "metadata": {},
   "outputs": [],
   "source": [
    "# TODO: fetch data from NYT API, save ISBN in list\n",
    "# iterate over list, fetch details for each ISBN\n",
    "# write to CSV\n",
    "\n",
    "# can we get all data from open library?\n",
    "    # Title, subtitle, authors, publisher, publish_data, subjects, notes(?), cover\n",
    "    # from NYTimes: description"
   ]
  },
  {
   "cell_type": "code",
   "execution_count": null,
   "metadata": {},
   "outputs": [],
   "source": [
    "ISBNs = []\n",
    "books = []\n",
    "descriptions = {}"
   ]
  },
  {
   "cell_type": "code",
   "execution_count": null,
   "metadata": {},
   "outputs": [],
   "source": [
    "API_KEY= os.environ['NYT_API_KEY']\n",
    "OPEN_LIBRARY_API='https://openlibrary.org/api/books?bibkeys=ISBN:{0}&format=json&jscmd=data'\n",
    "\n",
    "NYT_API_URL='https://api.nytimes.com/svc/books/v3/lists/full-overview.json?published-date={0}&api-key={1}'\n",
    "\n"
   ]
  },
  {
   "cell_type": "code",
   "execution_count": null,
   "metadata": {},
   "outputs": [],
   "source": [
    "YEARS = ['2022-05-31', '2021-05-31', '2020-05-31', '2019-05-31', '2018-05-31']\n",
    "\n",
    "for year in YEARS:\n",
    "    r = requests.get(NYT_API_URL.format(year, API_KEY))\n",
    "    data = r.json()\n",
    "    print(data)\n",
    "    for l in data['results']['lists']:\n",
    "        for book in l['books']:\n",
    "            ISBNs.append(book['primary_isbn13'])\n",
    "            descriptions[book['primary_isbn13']] = book.get(\"description\")"
   ]
  },
  {
   "cell_type": "code",
   "execution_count": null,
   "metadata": {},
   "outputs": [],
   "source": []
  },
  {
   "cell_type": "code",
   "execution_count": null,
   "metadata": {},
   "outputs": [],
   "source": []
  },
  {
   "cell_type": "code",
   "execution_count": null,
   "metadata": {},
   "outputs": [],
   "source": [
    "len(ISBNs)"
   ]
  },
  {
   "cell_type": "code",
   "execution_count": null,
   "metadata": {},
   "outputs": [],
   "source": [
    "for isbn in ISBNs:\n",
    "    try:\n",
    "        r = requests.get(OPEN_LIBRARY_API.format(isbn))\n",
    "        print(r.json())\n",
    "        data = r.json()['ISBN:{0}'.format(isbn)]\n",
    "        print(data)\n",
    "        bookData = {}\n",
    "        bookData['isbn'] = isbn\n",
    "        bookData['title'] = data.get('title')\n",
    "        bookData['subtitle'] = data.get('subtitle')\n",
    "        bookData['authors'] = \";\".join([x.get('name') for x in data.get('authors')])\n",
    "        bookData['publisher'] = data.get('publishers')[0]['name'] #\";\".join([x.get('name') for x in data.get('publishers')])\n",
    "        bookData['publish_date'] = data.get('publish_date')\n",
    "        bookData['subjects'] = \";\".join([x.get('name') for x in data.get('subjects')])\n",
    "        bookData['cover'] = data.get('cover').get('large')\n",
    "        books.append(bookData)\n",
    "    except:\n",
    "        pass"
   ]
  },
  {
   "cell_type": "code",
   "execution_count": null,
   "metadata": {},
   "outputs": [],
   "source": [
    "len(books)"
   ]
  },
  {
   "cell_type": "code",
   "execution_count": null,
   "metadata": {},
   "outputs": [],
   "source": []
  },
  {
   "cell_type": "code",
   "execution_count": null,
   "metadata": {},
   "outputs": [],
   "source": []
  },
  {
   "cell_type": "code",
   "execution_count": null,
   "metadata": {},
   "outputs": [],
   "source": []
  },
  {
   "cell_type": "code",
   "execution_count": null,
   "metadata": {},
   "outputs": [],
   "source": []
  },
  {
   "cell_type": "code",
   "execution_count": null,
   "metadata": {},
   "outputs": [],
   "source": [
    "# Save data to csv files"
   ]
  },
  {
   "cell_type": "code",
   "execution_count": null,
   "metadata": {},
   "outputs": [],
   "source": [
    "with open ('subjects.csv', 'w') as csvfile:\n",
    "    fieldnames = ['subject', 'isbn']\n",
    "    writer = csv.DictWriter(csvfile, fieldnames=fieldnames)\n",
    "    writer.writeheader()\n",
    "    for b in books:\n",
    "        for s in b['subjects'].split(';'):\n",
    "            writer.writerow({'subject': s, 'isbn': b['isbn']})"
   ]
  },
  {
   "cell_type": "code",
   "execution_count": null,
   "metadata": {},
   "outputs": [],
   "source": [
    "with open ('authors.csv', 'w') as csvfile:\n",
    "    fieldnames = ['author', 'isbn']\n",
    "    writer = csv.DictWriter(csvfile, fieldnames=fieldnames)\n",
    "    writer.writeheader()\n",
    "    for b in books:\n",
    "        for a in b['authors'].split(';'):\n",
    "            writer.writerow({'author': a, 'isbn': b['isbn']})"
   ]
  },
  {
   "cell_type": "code",
   "execution_count": null,
   "metadata": {},
   "outputs": [],
   "source": [
    "with open('publishers.csv', 'w') as csvfile:\n",
    "    fieldnames = ['publisher', 'isbn']\n",
    "    writer = csv.DictWriter(csvfile, fieldnames=fieldnames)\n",
    "    writer.writeheader()\n",
    "    for b in books:\n",
    "        writer.writerow({'publisher': b.get('publisher'), 'isbn': b.get('isbn')})"
   ]
  },
  {
   "cell_type": "code",
   "execution_count": null,
   "metadata": {},
   "outputs": [],
   "source": [
    "with open('books.csv', 'w') as csvfile:\n",
    "    fieldnames = ['isbn', 'title', 'subtitle', 'description','authors', 'subjects', 'publisher', 'publish_date', 'cover']\n",
    "    writer = csv.DictWriter(csvfile, fieldnames=fieldnames)\n",
    "    writer.writeheader()\n",
    "    for b in books:\n",
    "        b['description'] = descriptions[b.get('isbn')]\n",
    "        writer.writerow(b)"
   ]
  },
  {
   "cell_type": "code",
   "execution_count": null,
   "metadata": {},
   "outputs": [],
   "source": []
  }
 ],
 "metadata": {
  "kernelspec": {
   "display_name": "Python 3",
   "language": "python",
   "name": "python3"
  },
  "language_info": {
   "codemirror_mode": {
    "name": "ipython",
    "version": 3
   },
   "file_extension": ".py",
   "mimetype": "text/x-python",
   "name": "python",
   "nbconvert_exporter": "python",
   "pygments_lexer": "ipython3",
   "version": "3.7.6"
  }
 },
 "nbformat": 4,
 "nbformat_minor": 4
}
